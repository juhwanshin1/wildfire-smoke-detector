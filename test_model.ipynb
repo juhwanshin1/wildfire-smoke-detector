{
  "nbformat": 4,
  "nbformat_minor": 0,
  "metadata": {
    "colab": {
      "provenance": []
    },
    "kernelspec": {
      "name": "python3",
      "display_name": "Python 3"
    },
    "language_info": {
      "name": "python"
    }
  },
  "cells": [
    {
      "cell_type": "code",
      "execution_count": null,
      "metadata": {
        "id": "iS1mH3XODNft"
      },
      "outputs": [],
      "source": [
        "from google.colab import drive\n",
        "drive.mount('/content/drive')\n",
        "\n",
        "# 모델 파일 경로 설정\n",
        "model_path = '/content/drive/MyDrive/wildfire_smoke_detector/fire_smoke_model.pth'"
      ]
    },
    {
      "cell_type": "code",
      "source": [
        "import torch\n",
        "import torch.nn as nn\n",
        "from torchvision import models, transforms\n",
        "from PIL import Image\n",
        "\n",
        "# 장치 설정\n",
        "device = torch.device(\"cuda\" if torch.cuda.is_available() else \"cpu\")\n",
        "\n",
        "# 클래스 이름 정의\n",
        "class_names = ['fire', 'non_fire', 'smoke']"
      ],
      "metadata": {
        "id": "GqsdM0B6DSX3"
      },
      "execution_count": null,
      "outputs": []
    },
    {
      "cell_type": "code",
      "source": [
        "from torchvision import models\n",
        "import torch.nn as nn\n",
        "import torch\n",
        "\n",
        "# 모델 정의\n",
        "model = models.resnet18(pretrained=True)\n",
        "model.fc = nn.Linear(model.fc.in_features, 3)  # 클래스 수 3개\n",
        "\n",
        "# 디바이스 설정\n",
        "device = torch.device(\"cuda\" if torch.cuda.is_available() else \"cpu\")\n",
        "model.to(device)\n",
        "\n",
        "# 저장된 모델 불러오기\n",
        "model.load_state_dict(torch.load('/content/drive/MyDrive/wildfire_smoke_detector/fire_smoke_model.pth', map_location=device))\n",
        "model.eval()\n",
        "print(\"✅ 저장된 모델을 성공적으로 불러왔습니다.\")"
      ],
      "metadata": {
        "id": "9WF9uKseDTgY"
      },
      "execution_count": null,
      "outputs": []
    },
    {
      "cell_type": "code",
      "source": [
        "def load_model(path, device):\n",
        "    model = models.resnet18(pretrained=False)\n",
        "    model.fc = nn.Linear(model.fc.in_features, 3)\n",
        "    model.load_state_dict(torch.load(path, map_location=device))\n",
        "    model.to(device)\n",
        "    model.eval()\n",
        "    return model\n",
        "\n",
        "model = load_model(model_path, device)"
      ],
      "metadata": {
        "id": "5SFhtIDYDUxD"
      },
      "execution_count": null,
      "outputs": []
    },
    {
      "cell_type": "code",
      "source": [
        "model.load_state_dict(torch.load('/content/fire_smoke_model.pth'))\n",
        "model.eval()  # 평가 모드로 설정"
      ],
      "metadata": {
        "id": "4_CANwiKDWTP"
      },
      "execution_count": null,
      "outputs": []
    },
    {
      "cell_type": "code",
      "source": [
        "import torch\n",
        "import torch.nn as nn\n",
        "from torchvision import models\n",
        "\n",
        "# 모델 불러오기 (ResNet18)\n",
        "model = models.resnet18(pretrained=True)\n",
        "\n",
        "# 마지막 FC layer 수정 (3개의 클래스: fire, non_fire, smoke)\n",
        "model.fc = nn.Linear(model.fc.in_features, 3)\n",
        "\n",
        "# 모델을 GPU로 보내기 (CUDA 사용 여부 체크)\n",
        "device = torch.device('cuda' if torch.cuda.is_available() else 'cpu')\n",
        "model.to(device)\n",
        "\n",
        "# 모델 로드\n",
        "model.load_state_dict(torch.load('fire_smoke_model.pth'))  # 학습된 모델 불러오기\n",
        "model.eval()"
      ],
      "metadata": {
        "id": "WK1xkGSzDX1-"
      },
      "execution_count": null,
      "outputs": []
    }
  ]
}