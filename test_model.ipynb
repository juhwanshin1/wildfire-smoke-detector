# 1️⃣ 이미지 업로드
from google.colab import files
uploaded = files.upload()

# 2️⃣ 라이브러리 로드
import torch
import torch.nn as nn
from torchvision import models, transforms
from PIL import Image
import io

# 3️⃣ 클래스 순서 정의 (학습할 때 사용한 순서)
class_names = ['fire', 'non_fire', 'smoke']

# 4️⃣ 모델 로드
device = torch.device("cuda" if torch.cuda.is_available() else "cpu")
model_path = '/content/drive/MyDrive/wildfire_smoke_detector/fire_smoke_model.pth'

model = models.resnet18(pretrained=False)
model.fc = nn.Linear(model.fc.in_features, len(class_names))
model.load_state_dict(torch.load(model_path, map_location=device))
model.to(device)
model.eval()

# 5️⃣ 이미지 전처리 + 예측
transform = transforms.Compose([
    transforms.Resize((224, 224)),
    transforms.ToTensor(),
    transforms.Normalize(mean=[0.485, 0.456, 0.406],
                         std=[0.229, 0.224, 0.225])
])

for filename in uploaded.keys():
    image = Image.open(io.BytesIO(uploaded[filename])).convert("RGB")
    input_tensor = transform(image).unsqueeze(0).to(device)

    with torch.no_grad():
        outputs = model(input_tensor)
        _, predicted = torch.max(outputs, 1)
        prediction = class_names[predicted.item()]

    print(f"🖼️ 업로드된 이미지: {filename}")
    print(f"🔍 예측 결과: **{prediction.upper()}**")
